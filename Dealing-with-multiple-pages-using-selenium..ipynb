{
 "cells": [
  {
   "cell_type": "code",
   "execution_count": 50,
   "id": "bc2d414e",
   "metadata": {},
   "outputs": [],
   "source": [
    "from selenium import webdriver\n",
    "#from selenium.webdriver.chrome.options import Options\n",
    "import time"
   ]
  },
  {
   "cell_type": "code",
   "execution_count": 51,
   "id": "aa11474f",
   "metadata": {},
   "outputs": [],
   "source": [
    "#options=Options()\n",
    "options.headless=False\n",
    "#options.add_argument(\"window-size=1920x1080\")"
   ]
  },
  {
   "cell_type": "code",
   "execution_count": 52,
   "id": "f91b4192",
   "metadata": {},
   "outputs": [],
   "source": [
    "PATH = \"chromedriver.exe\"\n",
    "driver = webdriver.Chrome(PATH) #options=options"
   ]
  },
  {
   "cell_type": "code",
   "execution_count": 53,
   "id": "22c5afb9",
   "metadata": {},
   "outputs": [],
   "source": [
    "#url = \"https://www.audible.com/search\"\n",
    "url=\"https://www.audible.com/adblbestsellers?ref=a_search_t1_navTop_pl0cg1c0r0&pf_rd_p=adc4b13b-d074-4e1c-ac46-9f54aa53072b&pf_rd_r=R4HBCS8JSQ7VCB8E8F8A\"\n",
    "driver.get(url) "
   ]
  },
  {
   "cell_type": "code",
   "execution_count": 54,
   "id": "2685604a",
   "metadata": {},
   "outputs": [],
   "source": [
    "driver.maximize_window()"
   ]
  },
  {
   "cell_type": "code",
   "execution_count": 55,
   "id": "4597766e",
   "metadata": {},
   "outputs": [],
   "source": [
    "pagination=driver.find_element_by_xpath('//ul[contains(@class,\"pagingElements\")]')"
   ]
  },
  {
   "cell_type": "code",
   "execution_count": 56,
   "id": "bdd8a784",
   "metadata": {},
   "outputs": [],
   "source": [
    "pages=pagination.find_elements_by_tag_name(\"li\")"
   ]
  },
  {
   "cell_type": "code",
   "execution_count": 57,
   "id": "0e9ef9fb",
   "metadata": {},
   "outputs": [],
   "source": [
    "last_page=int(pages[-2].text)"
   ]
  },
  {
   "cell_type": "code",
   "execution_count": 58,
   "id": "e119eda3",
   "metadata": {},
   "outputs": [],
   "source": [
    "book_title=[]\n",
    "auther_name=[]\n",
    "book_length=[]"
   ]
  },
  {
   "cell_type": "code",
   "execution_count": 59,
   "id": "77cb011a",
   "metadata": {},
   "outputs": [],
   "source": [
    "current_page=1\n",
    "while current_page<=last_page:\n",
    "    time.sleep(2)\n",
    "    container= driver.find_element_by_class_name(\"adbl-impression-container \")\n",
    "    products=container.find_elements_by_xpath(\"./li\")\n",
    "    \n",
    "\n",
    "    for product in products:\n",
    "        book_title.append(product.find_element_by_xpath('.//h3[contains(@class,\"bc-heading\")]').text)\n",
    "        auther_name.append(product.find_element_by_xpath('.//li[contains(@class,\"authorLabel\")]').text)\n",
    "        book_length.append(product.find_element_by_xpath('.//li[contains(@class,\"runtimeLabel\")]').text)\n",
    "    current_page=current_page+1\n",
    "    next_page=driver.find_element_by_xpath('//span[contains(@class,\"nextButton\")]')\n",
    "    next_page.click()"
   ]
  },
  {
   "cell_type": "code",
   "execution_count": null,
   "id": "0f98f877",
   "metadata": {},
   "outputs": [],
   "source": []
  },
  {
   "cell_type": "code",
   "execution_count": null,
   "id": "d20531c9",
   "metadata": {},
   "outputs": [],
   "source": []
  },
  {
   "cell_type": "code",
   "execution_count": 60,
   "id": "2bdf6094",
   "metadata": {},
   "outputs": [
    {
     "data": {
      "text/plain": [
       "['1. Will',\n",
       " '2. Dune',\n",
       " \"3. The Judge's List\",\n",
       " '4. The Dark Hours',\n",
       " '5. Apples Never Fall',\n",
       " '6. Greenlights',\n",
       " '7. Atomic Habits',\n",
       " '8. An Irish Hostage',\n",
       " '9. The Storyteller',\n",
       " '10. Dune Messiah',\n",
       " \"11. Harry Potter and the Sorcerer's Stone, Book 1\",\n",
       " '12. The Eye of the World',\n",
       " '13. The Lincoln Highway',\n",
       " '14. The Subtle Art of Not Giving a F*ck',\n",
       " '15. The Last Thing He Told Me',\n",
       " '16. The Body Keeps the Score',\n",
       " '17. Never',\n",
       " '18. Radar Girls',\n",
       " '19. Better Off Dead',\n",
       " '20. Project Hail Mary',\n",
       " '21. The Dawn of Everything',\n",
       " '22. Go Tell the Bees That I Am Gone',\n",
       " '23. Harry Potter and the Chamber of Secrets, Book 2',\n",
       " '24. The Midnight Library',\n",
       " \"25. Can't Hurt Me\",\n",
       " '26. Game On',\n",
       " '27. 12 Rules for Life',\n",
       " '28. Harry Potter and the Prisoner of Azkaban, Book 3',\n",
       " '29. Harry Potter and the Goblet of Fire, Book 4',\n",
       " '30. Going There',\n",
       " '31. The High 5 Habit',\n",
       " '32. The Seven Husbands of Evelyn Hugo',\n",
       " '33. Reaper',\n",
       " '34. Harry Potter and the Order of the Phoenix, Book 5',\n",
       " '35. How to Win Friends & Influence People',\n",
       " '36. 48 Laws of Power',\n",
       " '37. Harry Potter and the Deathly Hallows, Book 7',\n",
       " '38. Harry Potter and the Half-Blood Prince, Book 6',\n",
       " '39. The Sandman: Act II',\n",
       " '40. Just Watch Me',\n",
       " '41. The Wish',\n",
       " '42. What Happened to You?',\n",
       " '43. Children of Dune',\n",
       " '44. Where the Crawdads Sing',\n",
       " '45. Rich Dad Poor Dad: 20th Anniversary Edition',\n",
       " '46. The Four Agreements',\n",
       " '47. Billy Summers',\n",
       " '48. The Stranger in the Lifeboat',\n",
       " '49. A Promised Land',\n",
       " '50. The Alchemist',\n",
       " '51. The Great Hunt',\n",
       " '52. The Four Winds',\n",
       " '53. State of Terror',\n",
       " '54. The 7 Habits of Highly Effective People',\n",
       " '55. Never Split the Difference',\n",
       " '56. Extreme Ownership',\n",
       " '57. Sapiens',\n",
       " '58. Peak Mind',\n",
       " '59. My Body',\n",
       " '60. When Christmas Comes',\n",
       " '61. The Sandman',\n",
       " '62. Betrayal',\n",
       " '63. Cytonic',\n",
       " '64. The Five Love Languages: The Secret to Love That Lasts',\n",
       " '65. Unfu*k Yourself',\n",
       " '66. Born a Crime',\n",
       " '67. It Ends with Us',\n",
       " '68. The Psychology of Money',\n",
       " '69. Cloud Cuckoo Land',\n",
       " '70. In Trump Time',\n",
       " '71. The Stand',\n",
       " '72. Fallout',\n",
       " '73. The Dragon Reborn',\n",
       " '74. Verity',\n",
       " '75. The Power of Now',\n",
       " \"76. Feeding the Soul (Because It's My Business)\",\n",
       " '77. Good Omens',\n",
       " '78. Powers and Thrones',\n",
       " '79. Attached',\n",
       " '80. Rich Dad Poor Dad',\n",
       " '81. Mercy',\n",
       " '82. Eat, Pray, #FML',\n",
       " '83. The Silent Patient',\n",
       " '84. A Game of Thrones',\n",
       " '85. Talking to Strangers',\n",
       " '86. Untamed',\n",
       " '87. Dare to Lead',\n",
       " '88. Peril',\n",
       " '89. Foundation (Apple Series Tie-in Edition)',\n",
       " '90. Think and Grow Rich',\n",
       " '91. The Sentence',\n",
       " '92. The Guest List',\n",
       " '93. Vanderbilt',\n",
       " '94. The Invisible Life of Addie LaRue',\n",
       " '95. Local Woman Missing',\n",
       " '96. The Shadow Rising',\n",
       " '97. The Fellowship of the Ring',\n",
       " '98. Becoming',\n",
       " '99. Leviathan Falls',\n",
       " '100. Woke Racism']"
      ]
     },
     "execution_count": 60,
     "metadata": {},
     "output_type": "execute_result"
    }
   ],
   "source": [
    "book_title"
   ]
  },
  {
   "cell_type": "code",
   "execution_count": 61,
   "id": "9a988706",
   "metadata": {},
   "outputs": [],
   "source": [
    "driver.quit()"
   ]
  },
  {
   "cell_type": "code",
   "execution_count": null,
   "id": "be848a9c",
   "metadata": {},
   "outputs": [],
   "source": []
  }
 ],
 "metadata": {
  "kernelspec": {
   "display_name": "Python 3",
   "language": "python",
   "name": "python3"
  },
  "language_info": {
   "codemirror_mode": {
    "name": "ipython",
    "version": 3
   },
   "file_extension": ".py",
   "mimetype": "text/x-python",
   "name": "python",
   "nbconvert_exporter": "python",
   "pygments_lexer": "ipython3",
   "version": "3.8.8"
  }
 },
 "nbformat": 4,
 "nbformat_minor": 5
}
